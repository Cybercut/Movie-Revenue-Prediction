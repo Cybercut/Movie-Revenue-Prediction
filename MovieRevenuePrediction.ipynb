{
  "nbformat": 4,
  "nbformat_minor": 0,
  "metadata": {
    "colab": {
      "provenance": []
    },
    "kernelspec": {
      "name": "python3",
      "display_name": "Python 3"
    },
    "language_info": {
      "name": "python"
    }
  },
  "cells": [
    {
      "cell_type": "code",
      "execution_count": 27,
      "metadata": {
        "id": "ZRITstOC7cok"
      },
      "outputs": [],
      "source": [
        "import numpy as np\n",
        "import pandas as pd\n",
        "import seaborn as sb\n",
        "import matplotlib.pyplot as plt\n",
        "from sklearn.preprocessing import PolynomialFeatures\n",
        "from sklearn.model_selection import train_test_split\n",
        "from sklearn.linear_model import LinearRegression\n",
        "from sklearn.preprocessing import StandardScaler\n",
        "sb.set()"
      ]
    },
    {
      "cell_type": "code",
      "source": [],
      "metadata": {
        "id": "qv-9Sb0YDaEg"
      },
      "execution_count": null,
      "outputs": []
    },
    {
      "cell_type": "code",
      "source": [
        "data = pd.read_csv('updated_movies.csv')\n",
        "data.head()"
      ],
      "metadata": {
        "colab": {
          "base_uri": "https://localhost:8080/",
          "height": 206
        },
        "id": "w5-y0PPV8xuc",
        "outputId": "a4bcb9c5-c145-482c-be37-54eec554e210"
      },
      "execution_count": 69,
      "outputs": [
        {
          "output_type": "execute_result",
          "data": {
            "text/plain": [
              "      budget  runtime  Rating  Title Length  Month Release     revenue\n",
              "0  237000000      162     7.2             6             12  2787965087\n",
              "1  300000000      169     6.9            40              5   961000000\n",
              "2  245000000      148     6.3             7             10   880674609\n",
              "3  250000000      165     7.6            21              7  1084939099\n",
              "4  260000000      132     6.1            11              3   284139100"
            ],
            "text/html": [
              "\n",
              "  <div id=\"df-49d84c1b-7882-466f-9ab9-a9a8f9f65864\">\n",
              "    <div class=\"colab-df-container\">\n",
              "      <div>\n",
              "<style scoped>\n",
              "    .dataframe tbody tr th:only-of-type {\n",
              "        vertical-align: middle;\n",
              "    }\n",
              "\n",
              "    .dataframe tbody tr th {\n",
              "        vertical-align: top;\n",
              "    }\n",
              "\n",
              "    .dataframe thead th {\n",
              "        text-align: right;\n",
              "    }\n",
              "</style>\n",
              "<table border=\"1\" class=\"dataframe\">\n",
              "  <thead>\n",
              "    <tr style=\"text-align: right;\">\n",
              "      <th></th>\n",
              "      <th>budget</th>\n",
              "      <th>runtime</th>\n",
              "      <th>Rating</th>\n",
              "      <th>Title Length</th>\n",
              "      <th>Month Release</th>\n",
              "      <th>revenue</th>\n",
              "    </tr>\n",
              "  </thead>\n",
              "  <tbody>\n",
              "    <tr>\n",
              "      <th>0</th>\n",
              "      <td>237000000</td>\n",
              "      <td>162</td>\n",
              "      <td>7.2</td>\n",
              "      <td>6</td>\n",
              "      <td>12</td>\n",
              "      <td>2787965087</td>\n",
              "    </tr>\n",
              "    <tr>\n",
              "      <th>1</th>\n",
              "      <td>300000000</td>\n",
              "      <td>169</td>\n",
              "      <td>6.9</td>\n",
              "      <td>40</td>\n",
              "      <td>5</td>\n",
              "      <td>961000000</td>\n",
              "    </tr>\n",
              "    <tr>\n",
              "      <th>2</th>\n",
              "      <td>245000000</td>\n",
              "      <td>148</td>\n",
              "      <td>6.3</td>\n",
              "      <td>7</td>\n",
              "      <td>10</td>\n",
              "      <td>880674609</td>\n",
              "    </tr>\n",
              "    <tr>\n",
              "      <th>3</th>\n",
              "      <td>250000000</td>\n",
              "      <td>165</td>\n",
              "      <td>7.6</td>\n",
              "      <td>21</td>\n",
              "      <td>7</td>\n",
              "      <td>1084939099</td>\n",
              "    </tr>\n",
              "    <tr>\n",
              "      <th>4</th>\n",
              "      <td>260000000</td>\n",
              "      <td>132</td>\n",
              "      <td>6.1</td>\n",
              "      <td>11</td>\n",
              "      <td>3</td>\n",
              "      <td>284139100</td>\n",
              "    </tr>\n",
              "  </tbody>\n",
              "</table>\n",
              "</div>\n",
              "      <button class=\"colab-df-convert\" onclick=\"convertToInteractive('df-49d84c1b-7882-466f-9ab9-a9a8f9f65864')\"\n",
              "              title=\"Convert this dataframe to an interactive table.\"\n",
              "              style=\"display:none;\">\n",
              "        \n",
              "  <svg xmlns=\"http://www.w3.org/2000/svg\" height=\"24px\"viewBox=\"0 0 24 24\"\n",
              "       width=\"24px\">\n",
              "    <path d=\"M0 0h24v24H0V0z\" fill=\"none\"/>\n",
              "    <path d=\"M18.56 5.44l.94 2.06.94-2.06 2.06-.94-2.06-.94-.94-2.06-.94 2.06-2.06.94zm-11 1L8.5 8.5l.94-2.06 2.06-.94-2.06-.94L8.5 2.5l-.94 2.06-2.06.94zm10 10l.94 2.06.94-2.06 2.06-.94-2.06-.94-.94-2.06-.94 2.06-2.06.94z\"/><path d=\"M17.41 7.96l-1.37-1.37c-.4-.4-.92-.59-1.43-.59-.52 0-1.04.2-1.43.59L10.3 9.45l-7.72 7.72c-.78.78-.78 2.05 0 2.83L4 21.41c.39.39.9.59 1.41.59.51 0 1.02-.2 1.41-.59l7.78-7.78 2.81-2.81c.8-.78.8-2.07 0-2.86zM5.41 20L4 18.59l7.72-7.72 1.47 1.35L5.41 20z\"/>\n",
              "  </svg>\n",
              "      </button>\n",
              "      \n",
              "  <style>\n",
              "    .colab-df-container {\n",
              "      display:flex;\n",
              "      flex-wrap:wrap;\n",
              "      gap: 12px;\n",
              "    }\n",
              "\n",
              "    .colab-df-convert {\n",
              "      background-color: #E8F0FE;\n",
              "      border: none;\n",
              "      border-radius: 50%;\n",
              "      cursor: pointer;\n",
              "      display: none;\n",
              "      fill: #1967D2;\n",
              "      height: 32px;\n",
              "      padding: 0 0 0 0;\n",
              "      width: 32px;\n",
              "    }\n",
              "\n",
              "    .colab-df-convert:hover {\n",
              "      background-color: #E2EBFA;\n",
              "      box-shadow: 0px 1px 2px rgba(60, 64, 67, 0.3), 0px 1px 3px 1px rgba(60, 64, 67, 0.15);\n",
              "      fill: #174EA6;\n",
              "    }\n",
              "\n",
              "    [theme=dark] .colab-df-convert {\n",
              "      background-color: #3B4455;\n",
              "      fill: #D2E3FC;\n",
              "    }\n",
              "\n",
              "    [theme=dark] .colab-df-convert:hover {\n",
              "      background-color: #434B5C;\n",
              "      box-shadow: 0px 1px 3px 1px rgba(0, 0, 0, 0.15);\n",
              "      filter: drop-shadow(0px 1px 2px rgba(0, 0, 0, 0.3));\n",
              "      fill: #FFFFFF;\n",
              "    }\n",
              "  </style>\n",
              "\n",
              "      <script>\n",
              "        const buttonEl =\n",
              "          document.querySelector('#df-49d84c1b-7882-466f-9ab9-a9a8f9f65864 button.colab-df-convert');\n",
              "        buttonEl.style.display =\n",
              "          google.colab.kernel.accessAllowed ? 'block' : 'none';\n",
              "\n",
              "        async function convertToInteractive(key) {\n",
              "          const element = document.querySelector('#df-49d84c1b-7882-466f-9ab9-a9a8f9f65864');\n",
              "          const dataTable =\n",
              "            await google.colab.kernel.invokeFunction('convertToInteractive',\n",
              "                                                     [key], {});\n",
              "          if (!dataTable) return;\n",
              "\n",
              "          const docLinkHtml = 'Like what you see? Visit the ' +\n",
              "            '<a target=\"_blank\" href=https://colab.research.google.com/notebooks/data_table.ipynb>data table notebook</a>'\n",
              "            + ' to learn more about interactive tables.';\n",
              "          element.innerHTML = '';\n",
              "          dataTable['output_type'] = 'display_data';\n",
              "          await google.colab.output.renderOutput(dataTable, element);\n",
              "          const docLink = document.createElement('div');\n",
              "          docLink.innerHTML = docLinkHtml;\n",
              "          element.appendChild(docLink);\n",
              "        }\n",
              "      </script>\n",
              "    </div>\n",
              "  </div>\n",
              "  "
            ]
          },
          "metadata": {},
          "execution_count": 69
        }
      ]
    },
    {
      "cell_type": "code",
      "source": [
        "x = data.iloc[:,:-1]\n",
        "y = data.iloc[:,-1]\n",
        "x_train,x_test,y_train,y_test = train_test_split(x,y,test_size = 0.2,random_state = 0)"
      ],
      "metadata": {
        "id": "sHMQYfqI887_"
      },
      "execution_count": 75,
      "outputs": []
    },
    {
      "cell_type": "code",
      "source": [
        "m = data.iloc[:,:-1]"
      ],
      "metadata": {
        "id": "b9dhN8scA8n3"
      },
      "execution_count": 76,
      "outputs": []
    },
    {
      "cell_type": "code",
      "source": [
        "reg = LinearRegression()\n",
        "reg.fit(x_train,y_train)"
      ],
      "metadata": {
        "colab": {
          "base_uri": "https://localhost:8080/"
        },
        "id": "gz1xOhPM9Uee",
        "outputId": "e144cfb7-b1b2-4043-d4e0-59c8a74ae475"
      },
      "execution_count": 77,
      "outputs": [
        {
          "output_type": "execute_result",
          "data": {
            "text/plain": [
              "LinearRegression()"
            ]
          },
          "metadata": {},
          "execution_count": 77
        }
      ]
    },
    {
      "cell_type": "code",
      "source": [
        "reg.predict(x_test)"
      ],
      "metadata": {
        "colab": {
          "base_uri": "https://localhost:8080/"
        },
        "id": "gB34p6Qv-HZe",
        "outputId": "5dbbbfc8-e395-4fce-eadf-8a250907e1cd"
      },
      "execution_count": 65,
      "outputs": [
        {
          "output_type": "execute_result",
          "data": {
            "text/plain": [
              "array([ 2.73721493e+08,  7.09004289e+08,  1.24890749e+08,  2.18254706e+08,\n",
              "        1.10627422e+08,  3.15572617e+08,  2.16405149e+08,  2.30825560e+08,\n",
              "        6.60524107e+08,  3.18938767e+08,  2.01229934e+08,  2.40571239e+08,\n",
              "        2.46599018e+08,  1.76497388e+08,  1.24298449e+08,  2.49829930e+08,\n",
              "        1.50252520e+08,  1.50911553e+08,  2.01394888e+08,  6.16163222e+07,\n",
              "        5.95486667e+07,  1.45792944e+08,  5.51593870e+08,  2.20476690e+08,\n",
              "        4.26903647e+08,  4.64804273e+08,  7.04787600e+08,  2.85005021e+08,\n",
              "        1.62434811e+08,  1.42555203e+08,  1.58475365e+08,  3.83720411e+08,\n",
              "        1.40221293e+08,  2.90584785e+08,  5.38499828e+06,  2.74636930e+08,\n",
              "        5.91527652e+08,  2.63915523e+08,  2.27025627e+08,  5.06567238e+08,\n",
              "        1.32163697e+08,  2.15391269e+08,  6.81605065e+07,  6.49255731e+08,\n",
              "        3.51988147e+08,  7.97499118e+07,  1.72314650e+08,  3.03638281e+08,\n",
              "        5.94598054e+07,  2.38539895e+08,  4.08078673e+08,  4.13719498e+07,\n",
              "       -1.11005191e+08,  3.12557817e+08,  2.77834087e+08,  2.93300421e+08,\n",
              "        1.45871800e+08,  3.58249066e+08,  1.09682923e+08,  4.13094878e+07,\n",
              "        1.95707151e+07,  1.55615156e+08,  4.76206574e+08,  1.15743519e+08,\n",
              "        1.36232798e+08,  2.26985515e+08,  1.37970788e+08,  2.13531308e+08,\n",
              "        3.23515548e+08,  1.86607498e+07,  2.37961913e+07,  3.54127330e+08,\n",
              "        1.29221473e+08,  3.22310551e+08,  1.11341543e+08,  6.26731230e+07,\n",
              "        1.35738351e+08,  2.98150149e+08,  2.79454935e+08, -3.40837571e+06,\n",
              "        6.34565236e+07,  3.06342941e+08,  3.72770403e+08,  4.59647032e+08,\n",
              "        2.77841608e+08,  4.32177840e+08,  2.08237192e+08,  3.56588764e+08,\n",
              "        2.87117541e+08,  8.50046660e+07,  7.27209261e+07,  1.15085818e+08,\n",
              "        1.81426712e+08,  1.30275856e+08,  3.82254487e+08,  2.51962541e+08,\n",
              "        1.26931506e+08,  3.87599860e+07,  2.35696196e+08,  7.59247602e+08,\n",
              "        4.25352407e+08,  1.41078139e+08,  2.48210618e+08,  2.29665844e+07,\n",
              "       -4.22906522e+07,  2.59853031e+08,  4.09194136e+08,  3.84245979e+07,\n",
              "        1.35743924e+08,  2.39126247e+08,  2.93500604e+08,  3.87247051e+08,\n",
              "       -7.36592292e+06,  1.67718139e+08,  4.36474479e+08,  9.29600080e+07,\n",
              "        3.61660189e+08,  1.77147581e+08,  1.00031730e+08,  1.68454079e+08,\n",
              "        6.42354385e+08,  7.55897702e+07,  1.27064749e+08,  1.33927908e+08,\n",
              "        3.46065187e+08,  6.93941442e+07,  4.26978178e+08,  2.71717890e+08,\n",
              "        8.70658265e+07,  1.83438835e+08,  1.81236754e+08,  2.45886412e+08,\n",
              "        1.68980673e+08,  4.50338366e+08,  9.37897936e+08,  1.19575918e+08,\n",
              "        1.99477354e+08,  5.80547495e+08,  1.44695409e+08,  4.54738449e+08,\n",
              "        3.04579844e+08,  2.68062480e+08,  2.38359648e+08,  3.84388067e+08,\n",
              "        1.07525637e+08,  5.63148326e+08,  7.02899909e+08,  4.10756707e+08,\n",
              "        6.49414340e+08,  1.33522820e+08,  1.84626709e+08,  1.56871710e+08,\n",
              "        2.10837565e+08,  1.96235158e+08, -6.79355217e+07,  1.22159420e+08,\n",
              "        5.60052988e+07,  4.32492336e+08,  2.12218999e+08,  4.28208592e+07,\n",
              "        1.68467483e+08,  2.45588524e+08,  3.73108564e+08,  2.98481822e+08,\n",
              "        9.97593544e+07,  4.39936631e+08,  9.20086758e+07,  1.07110623e+08,\n",
              "        5.66865463e+08,  3.58863264e+08,  2.94569656e+08,  1.32391808e+08,\n",
              "        2.29542370e+08,  1.26392225e+08,  2.89783972e+08,  5.14934022e+08,\n",
              "       -1.02073952e+08,  1.16208179e+08,  5.28617617e+07,  3.05032030e+08,\n",
              "        3.15606323e+08,  9.87691285e+07,  2.43147863e+08,  1.96962203e+08,\n",
              "        2.80832044e+08,  2.78965561e+08,  9.96504855e+07,  1.98465612e+08,\n",
              "        1.91065114e+08,  7.50548336e+08,  1.13225316e+08,  1.45797305e+08,\n",
              "       -2.17645046e+08,  1.42505717e+08,  1.70342842e+08,  3.96153469e+08,\n",
              "        1.80611338e+08,  3.95778422e+08,  2.84005033e+07,  1.61369117e+08])"
            ]
          },
          "metadata": {},
          "execution_count": 65
        }
      ]
    },
    {
      "cell_type": "code",
      "source": [
        "reg.coef_"
      ],
      "metadata": {
        "colab": {
          "base_uri": "https://localhost:8080/"
        },
        "id": "A50Zr2nm_ocN",
        "outputId": "b8edd9ff-07c5-4eca-be58-0a1a6dda6168"
      },
      "execution_count": 66,
      "outputs": [
        {
          "output_type": "execute_result",
          "data": {
            "text/plain": [
              "array([ 3.19302663e+00, -2.06535528e+05,  1.05739186e+08,  2.43049946e+06,\n",
              "       -3.00822698e+06])"
            ]
          },
          "metadata": {},
          "execution_count": 66
        }
      ]
    },
    {
      "cell_type": "code",
      "source": [
        "m.columns.values"
      ],
      "metadata": {
        "colab": {
          "base_uri": "https://localhost:8080/"
        },
        "id": "4KMfUrL4AA3t",
        "outputId": "66a3f8b6-0405-4be3-bc80-b84dd73715da"
      },
      "execution_count": 67,
      "outputs": [
        {
          "output_type": "execute_result",
          "data": {
            "text/plain": [
              "array(['budget', 'runtime', 'Rating', 'Title Length', 'Month Release'],\n",
              "      dtype=object)"
            ]
          },
          "metadata": {},
          "execution_count": 67
        }
      ]
    },
    {
      "cell_type": "code",
      "source": [
        "Findings = pd.DataFrame()\n",
        "Findings['Factors'] = m.columns.values\n",
        "Findings['Coefficients'] = reg.coef_\n",
        "Findings['Coefficients'] = Findings['Coefficients'].sort_values(ascending = False)\n",
        "Findings"
      ],
      "metadata": {
        "colab": {
          "base_uri": "https://localhost:8080/",
          "height": 206
        },
        "id": "BCTUjaZe_rgV",
        "outputId": "1569d53d-4549-4647-d716-983966608537"
      },
      "execution_count": 68,
      "outputs": [
        {
          "output_type": "execute_result",
          "data": {
            "text/plain": [
              "         Factors  Coefficients\n",
              "0         budget  3.193027e+00\n",
              "1        runtime -2.065355e+05\n",
              "2         Rating  1.057392e+08\n",
              "3   Title Length  2.430499e+06\n",
              "4  Month Release -3.008227e+06"
            ],
            "text/html": [
              "\n",
              "  <div id=\"df-48d1be54-c853-4b6b-89d2-31689b3d2065\">\n",
              "    <div class=\"colab-df-container\">\n",
              "      <div>\n",
              "<style scoped>\n",
              "    .dataframe tbody tr th:only-of-type {\n",
              "        vertical-align: middle;\n",
              "    }\n",
              "\n",
              "    .dataframe tbody tr th {\n",
              "        vertical-align: top;\n",
              "    }\n",
              "\n",
              "    .dataframe thead th {\n",
              "        text-align: right;\n",
              "    }\n",
              "</style>\n",
              "<table border=\"1\" class=\"dataframe\">\n",
              "  <thead>\n",
              "    <tr style=\"text-align: right;\">\n",
              "      <th></th>\n",
              "      <th>Factors</th>\n",
              "      <th>Coefficients</th>\n",
              "    </tr>\n",
              "  </thead>\n",
              "  <tbody>\n",
              "    <tr>\n",
              "      <th>0</th>\n",
              "      <td>budget</td>\n",
              "      <td>3.193027e+00</td>\n",
              "    </tr>\n",
              "    <tr>\n",
              "      <th>1</th>\n",
              "      <td>runtime</td>\n",
              "      <td>-2.065355e+05</td>\n",
              "    </tr>\n",
              "    <tr>\n",
              "      <th>2</th>\n",
              "      <td>Rating</td>\n",
              "      <td>1.057392e+08</td>\n",
              "    </tr>\n",
              "    <tr>\n",
              "      <th>3</th>\n",
              "      <td>Title Length</td>\n",
              "      <td>2.430499e+06</td>\n",
              "    </tr>\n",
              "    <tr>\n",
              "      <th>4</th>\n",
              "      <td>Month Release</td>\n",
              "      <td>-3.008227e+06</td>\n",
              "    </tr>\n",
              "  </tbody>\n",
              "</table>\n",
              "</div>\n",
              "      <button class=\"colab-df-convert\" onclick=\"convertToInteractive('df-48d1be54-c853-4b6b-89d2-31689b3d2065')\"\n",
              "              title=\"Convert this dataframe to an interactive table.\"\n",
              "              style=\"display:none;\">\n",
              "        \n",
              "  <svg xmlns=\"http://www.w3.org/2000/svg\" height=\"24px\"viewBox=\"0 0 24 24\"\n",
              "       width=\"24px\">\n",
              "    <path d=\"M0 0h24v24H0V0z\" fill=\"none\"/>\n",
              "    <path d=\"M18.56 5.44l.94 2.06.94-2.06 2.06-.94-2.06-.94-.94-2.06-.94 2.06-2.06.94zm-11 1L8.5 8.5l.94-2.06 2.06-.94-2.06-.94L8.5 2.5l-.94 2.06-2.06.94zm10 10l.94 2.06.94-2.06 2.06-.94-2.06-.94-.94-2.06-.94 2.06-2.06.94z\"/><path d=\"M17.41 7.96l-1.37-1.37c-.4-.4-.92-.59-1.43-.59-.52 0-1.04.2-1.43.59L10.3 9.45l-7.72 7.72c-.78.78-.78 2.05 0 2.83L4 21.41c.39.39.9.59 1.41.59.51 0 1.02-.2 1.41-.59l7.78-7.78 2.81-2.81c.8-.78.8-2.07 0-2.86zM5.41 20L4 18.59l7.72-7.72 1.47 1.35L5.41 20z\"/>\n",
              "  </svg>\n",
              "      </button>\n",
              "      \n",
              "  <style>\n",
              "    .colab-df-container {\n",
              "      display:flex;\n",
              "      flex-wrap:wrap;\n",
              "      gap: 12px;\n",
              "    }\n",
              "\n",
              "    .colab-df-convert {\n",
              "      background-color: #E8F0FE;\n",
              "      border: none;\n",
              "      border-radius: 50%;\n",
              "      cursor: pointer;\n",
              "      display: none;\n",
              "      fill: #1967D2;\n",
              "      height: 32px;\n",
              "      padding: 0 0 0 0;\n",
              "      width: 32px;\n",
              "    }\n",
              "\n",
              "    .colab-df-convert:hover {\n",
              "      background-color: #E2EBFA;\n",
              "      box-shadow: 0px 1px 2px rgba(60, 64, 67, 0.3), 0px 1px 3px 1px rgba(60, 64, 67, 0.15);\n",
              "      fill: #174EA6;\n",
              "    }\n",
              "\n",
              "    [theme=dark] .colab-df-convert {\n",
              "      background-color: #3B4455;\n",
              "      fill: #D2E3FC;\n",
              "    }\n",
              "\n",
              "    [theme=dark] .colab-df-convert:hover {\n",
              "      background-color: #434B5C;\n",
              "      box-shadow: 0px 1px 3px 1px rgba(0, 0, 0, 0.15);\n",
              "      filter: drop-shadow(0px 1px 2px rgba(0, 0, 0, 0.3));\n",
              "      fill: #FFFFFF;\n",
              "    }\n",
              "  </style>\n",
              "\n",
              "      <script>\n",
              "        const buttonEl =\n",
              "          document.querySelector('#df-48d1be54-c853-4b6b-89d2-31689b3d2065 button.colab-df-convert');\n",
              "        buttonEl.style.display =\n",
              "          google.colab.kernel.accessAllowed ? 'block' : 'none';\n",
              "\n",
              "        async function convertToInteractive(key) {\n",
              "          const element = document.querySelector('#df-48d1be54-c853-4b6b-89d2-31689b3d2065');\n",
              "          const dataTable =\n",
              "            await google.colab.kernel.invokeFunction('convertToInteractive',\n",
              "                                                     [key], {});\n",
              "          if (!dataTable) return;\n",
              "\n",
              "          const docLinkHtml = 'Like what you see? Visit the ' +\n",
              "            '<a target=\"_blank\" href=https://colab.research.google.com/notebooks/data_table.ipynb>data table notebook</a>'\n",
              "            + ' to learn more about interactive tables.';\n",
              "          element.innerHTML = '';\n",
              "          dataTable['output_type'] = 'display_data';\n",
              "          await google.colab.output.renderOutput(dataTable, element);\n",
              "          const docLink = document.createElement('div');\n",
              "          docLink.innerHTML = docLinkHtml;\n",
              "          element.appendChild(docLink);\n",
              "        }\n",
              "      </script>\n",
              "    </div>\n",
              "  </div>\n",
              "  "
            ]
          },
          "metadata": {},
          "execution_count": 68
        }
      ]
    },
    {
      "cell_type": "code",
      "source": [
        "reg.score(x_train,y_train)"
      ],
      "metadata": {
        "colab": {
          "base_uri": "https://localhost:8080/"
        },
        "id": "bcBfwLqmDiBO",
        "outputId": "bbce16f8-101a-43be-c7d4-1ff1fdc94268"
      },
      "execution_count": 81,
      "outputs": [
        {
          "output_type": "execute_result",
          "data": {
            "text/plain": [
              "0.4997810261705449"
            ]
          },
          "metadata": {},
          "execution_count": 81
        }
      ]
    }
  ]
}